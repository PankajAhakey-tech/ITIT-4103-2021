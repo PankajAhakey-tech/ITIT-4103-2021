{
  "nbformat": 4,
  "nbformat_minor": 0,
  "metadata": {
    "colab": {
      "name": "2018IMT061_MI3.ipynb",
      "provenance": [],
      "toc_visible": true
    },
    "kernelspec": {
      "name": "python3",
      "display_name": "Python 3"
    },
    "language_info": {
      "name": "python"
    }
  },
  "cells": [
    {
      "cell_type": "markdown",
      "metadata": {
        "id": "8pf6qzHXs-R3"
      },
      "source": [
        "**ML ASSIGNMENT 3**"
      ]
    },
    {
      "cell_type": "markdown",
      "metadata": {
        "id": "1n7w9hz_tNm-"
      },
      "source": [
        "**Name - Pankaj Ahakey**"
      ]
    },
    {
      "cell_type": "markdown",
      "metadata": {
        "id": "bbiim6xktU8q"
      },
      "source": [
        "a) Implementing Linear Regression"
      ]
    },
    {
      "cell_type": "code",
      "metadata": {
        "id": "7FQYoYrptITV"
      },
      "source": [
        "import numpy as np\n",
        "import pandas as pd\n",
        "from numpy.linalg import inv, norm\n",
        "import matplotlib.pyplot as plt"
      ],
      "execution_count": 1,
      "outputs": []
    },
    {
      "cell_type": "markdown",
      "metadata": {
        "id": "qqIUccM1teop"
      },
      "source": [
        "Generating 50 random data points and adding noise to y"
      ]
    },
    {
      "cell_type": "code",
      "metadata": {
        "colab": {
          "base_uri": "https://localhost:8080/",
          "height": 265
        },
        "id": "gLE1ScMjtadz",
        "outputId": "14015d32-ac7c-47fa-b009-ab960081e156"
      },
      "source": [
        "input=np.random.random((50,1))\n",
        "noiseless=np.sin(1+np.square(input))\n",
        "noise=np.random.normal(0,0.032,size=(50,1))\n",
        "noisefull=noiseless+noise\n",
        "train=40\n",
        "plt.scatter(input, noisefull)\n",
        "plt.show()"
      ],
      "execution_count": 2,
      "outputs": [
        {
          "output_type": "display_data",
          "data": {
            "image/png": "[encoded data removed]",
            "text/plain": [
              "<Figure size 432x288 with 1 Axes>"
            ]
          },
          "metadata": {
            "needs_background": "light"
          }
        }
      ]
    },
    {
      "cell_type": "code",
      "metadata": {
        "id": "1VF4tDcFthzZ"
      },
      "source": [
        "def normalize(X):\n",
        "    mu = X.mean(0)\n",
        "    std = X.std(0)\n",
        "    return (X - mu) / std, mu, std\n",
        "\n",
        "\n",
        "def add_bias_column(X):\n",
        "    ones = np.ones(X.shape[0]).reshape(X.shape[0], 1)\n",
        "    return np.concatenate((ones, X), 1)\n",
        "\n",
        "\n",
        "def normal_equation(X, y):\n",
        "    w = inv(X.T.dot(X)).dot(X.T).dot(y)\n",
        "    return w\n",
        "\n",
        "\n",
        "def compute_error(X, y, w):\n",
        "    return (y - X.dot(w)).T.dot(y - X.dot(w))"
      ],
      "execution_count": 3,
      "outputs": []
    },
    {
      "cell_type": "code",
      "metadata": {
        "colab": {
          "base_uri": "https://localhost:8080/",
          "height": 1000
        },
        "id": "XKvsALTktkno",
        "outputId": "5fccde09-e324-4301-841d-e8f8dcd78c37"
      },
      "source": [
        "if __name__ == '__main__':\n",
        "\n",
        "    X = input\n",
        "    y = noisefull\n",
        "    X = add_bias_column(X)\n",
        "    ne_w = normal_equation(X, y)\n",
        "    print('-' * 70)\n",
        "    print('Normal Equation Model:\\n', ne_w, '\\n', '-' * 70)\n",
        "    predict= ne_w[1] * input + ne_w[0]\n",
        "    for a,b in zip(predict,input):\n",
        "        print(a ,b)\n",
        "\n",
        "    plt.title(\"prediction\")\n",
        "    plt.scatter(input, predict)\n",
        "    plt.scatter(input, noisefull)\n",
        "\n",
        "    plt.show()"
      ],
      "execution_count": 4,
      "outputs": [
        {
          "output_type": "stream",
          "name": "stdout",
          "text": [
            "----------------------------------------------------------------------\n",
            "Normal Equation Model:\n",
            " [[0.85171801]\n",
            " [0.14436854]] \n",
            " ----------------------------------------------------------------------\n",
            "[0.98926154] [0.95272513]\n",
            "[0.93015011] [0.54327696]\n",
            "[0.9697867] [0.81782839]\n",
            "[0.87133645] [0.13589141]\n",
            "[0.96859808] [0.8095952]\n",
            "[0.91326884] [0.4263452]\n",
            "[0.86804225] [0.11307343]\n",
            "[0.91034873] [0.40611844]\n",
            "[0.9604829] [0.75338361]\n",
            "[0.94017891] [0.61274361]\n",
            "[0.90848305] [0.39319537]\n",
            "[0.88963209] [0.26262012]\n",
            "[0.91738823] [0.45487902]\n",
            "[0.92955019] [0.53912152]\n",
            "[0.98828159] [0.94593728]\n",
            "[0.98173129] [0.90056521]\n",
            "[0.90603676] [0.37625065]\n",
            "[0.96281105] [0.76951005]\n",
            "[0.91439002] [0.43411129]\n",
            "[0.90717308] [0.38412159]\n",
            "[0.99515611] [0.99355513]\n",
            "[0.87010723] [0.12737696]\n",
            "[0.88343171] [0.21967187]\n",
            "[0.90747971] [0.38624553]\n",
            "[0.88511873] [0.23135737]\n",
            "[0.9931151] [0.97941763]\n",
            "[0.89289257] [0.28520452]\n",
            "[0.85227036] [0.00382599]\n",
            "[0.94416805] [0.64037528]\n",
            "[0.94688395] [0.65918751]\n",
            "[0.96137898] [0.75959053]\n",
            "[0.86038193] [0.06001256]\n",
            "[0.88956123] [0.2621293]\n",
            "[0.94706592] [0.66044802]\n",
            "[0.96318266] [0.77208411]\n",
            "[0.89081939] [0.27084418]\n",
            "[0.87816392] [0.18318335]\n",
            "[0.94072155] [0.61650237]\n",
            "[0.98212945] [0.90332315]\n",
            "[0.87994456] [0.19551732]\n",
            "[0.91805632] [0.45950671]\n",
            "[0.96935424] [0.81483289]\n",
            "[0.94786163] [0.66595964]\n",
            "[0.89195658] [0.27872121]\n",
            "[0.93943848] [0.60761485]\n",
            "[0.8812623] [0.20464493]\n",
            "[0.94463082] [0.64358072]\n",
            "[0.91538946] [0.44103409]\n",
            "[0.91311942] [0.42531017]\n",
            "[0.91566253] [0.4429256]\n"
          ]
        },
        {
          "output_type": "display_data",
          "data": {
            "image/png": "[encoded data removed]",
            "text/plain": [
              "<Figure size 432x288 with 1 Axes>"
            ]
          },
          "metadata": {
            "needs_background": "light"
          }
        }
      ]
    },
    {
      "cell_type": "markdown",
      "metadata": {
        "id": "6sla0HzitriA"
      },
      "source": [
        "**b) Implementing Polynomial Regression**"
      ]
    },
    {
      "cell_type": "code",
      "metadata": {
        "id": "J9c5UTWwtoMD"
      },
      "source": [
        "import numpy as np\n",
        "from matplotlib import pyplot as plt"
      ],
      "execution_count": 5,
      "outputs": []
    },
    {
      "cell_type": "code",
      "metadata": {
        "id": "yZiNg8GBtvy4"
      },
      "source": [
        "def getPoweredX(deg, X_t):\n",
        "    X_pow = X_t.copy()\n",
        "    for i in range(2, deg + 1):\n",
        "        powmat = (X_t[:, 1] ** i).reshape(X_pow.shape[0], 1)\n",
        "        X_pow = np.append(X_pow, powmat, axis=1)\n",
        "    return X_pow\n",
        "\n",
        "\n",
        "def calculateEmpricalRisk(yh):\n",
        "    error = sum((Y - yh) ** 2)\n",
        "    return error / len(Y)"
      ],
      "execution_count": 6,
      "outputs": []
    },
    {
      "cell_type": "markdown",
      "metadata": {
        "id": "utkRX11lt0oH"
      },
      "source": [
        "Generating random numbers in range of 50"
      ]
    },
    {
      "cell_type": "code",
      "metadata": {
        "id": "gOabGQu-tyPm"
      },
      "source": [
        "input=np.random.random((50,1))\n",
        "noiseless=np.sin(1+np.square(input))\n",
        "noise=np.random.normal(0,0.032,size=(50,1))\n",
        "noisefull=noiseless+noise\n",
        "\n",
        "X = input\n",
        "X_train = np.append(np.ones((X.shape[0], 1)), X, axis=1)\n",
        "Y = noiseless"
      ],
      "execution_count": 7,
      "outputs": []
    },
    {
      "cell_type": "markdown",
      "metadata": {
        "id": "pQCQ6y-It6Yp"
      },
      "source": [
        "Applying Polynomial Regression for degree 1 and printing its corresponding error and plot\n",
        "\n"
      ]
    },
    {
      "cell_type": "code",
      "metadata": {
        "colab": {
          "base_uri": "https://localhost:8080/",
          "height": 319
        },
        "id": "OnLJlstzt3Ky",
        "outputId": "39f4577e-4d65-433b-a1cc-3268309b400d"
      },
      "source": [
        "deg1 = 1\n",
        "X1 = getPoweredX(deg1, X_train)\n",
        "\n",
        "first_part = np.linalg.inv(np.dot(X1.transpose(), X1))\n",
        "second_part = np.dot(first_part, X1.transpose())\n",
        "W1 = np.dot(second_part, Y)\n",
        "\n",
        "print(\"Empirical risk for degree 1 model: \", calculateEmpricalRisk(np.dot(X1, W1)))\n",
        "plt.title(\"Prediction\", size = \"16\")\n",
        "plt.xlabel(\"Degree=1\", size = \"14\")\n",
        "plt.scatter(X,Y, color = \"red\")\n",
        "plt.scatter(X1[:,1], np.dot(X1, W1), color = \"blue\")\n",
        "plt.show()"
      ],
      "execution_count": 8,
      "outputs": [
        {
          "output_type": "stream",
          "name": "stdout",
          "text": [
            "Empirical risk for degree 1 model:  [0.00061131]\n"
          ]
        },
        {
          "output_type": "display_data",
          "data": {
            "image/png": "[encoded data removed]",
            "text/plain": [
              "<Figure size 432x288 with 1 Axes>"
            ]
          },
          "metadata": {
            "needs_background": "light"
          }
        }
      ]
    },
    {
      "cell_type": "markdown",
      "metadata": {
        "id": "iAGQUoxfuCIu"
      },
      "source": [
        "Applying Polynomial Regression for degree 2 and printing its corresponding error and plot"
      ]
    },
    {
      "cell_type": "code",
      "metadata": {
        "colab": {
          "base_uri": "https://localhost:8080/",
          "height": 319
        },
        "id": "pfxrfiX3t9vk",
        "outputId": "c51cfbfa-52d1-46bd-efa5-ef93e95fdbd2"
      },
      "source": [
        "deg2 = 2\n",
        "X2 = getPoweredX(deg2, X_train)\n",
        "\n",
        "first_part = np.linalg.pinv(np.dot(X2.transpose(), X2))\n",
        "second_part = np.dot(first_part, X2.transpose())\n",
        "W2 = np.dot(second_part, Y)\n",
        "\n",
        "print(\"Empirical risk for degree 2 model: \", calculateEmpricalRisk(np.dot(X2, W2)))\n",
        "plt.title(\"Prediction\", size = \"16\")\n",
        "plt.xlabel(\"Degree=2\", size = \"14\")\n",
        "plt.scatter(X,Y, color = \"red\")\n",
        "plt.scatter(X,Y, color = \"red\")\n",
        "plt.scatter(X2[:,1], np.dot(X2, W2), color = \"blue\")\n",
        "plt.show()"
      ],
      "execution_count": 9,
      "outputs": [
        {
          "output_type": "stream",
          "name": "stdout",
          "text": [
            "Empirical risk for degree 2 model:  [0.00028552]\n"
          ]
        },
        {
          "output_type": "display_data",
          "data": {
            "image/png": "[encoded data removed]",
            "text/plain": [
              "<Figure size 432x288 with 1 Axes>"
            ]
          },
          "metadata": {
            "needs_background": "light"
          }
        }
      ]
    },
    {
      "cell_type": "markdown",
      "metadata": {
        "id": "u5KS2noRuJJA"
      },
      "source": [
        "Applying Polynomial Regression for degree 3 and printing its corresponding error and plot"
      ]
    },
    {
      "cell_type": "code",
      "metadata": {
        "colab": {
          "base_uri": "https://localhost:8080/",
          "height": 319
        },
        "id": "ILOfktXtuEtt",
        "outputId": "ea6c5fcc-658b-4079-c307-b4bb262a306e"
      },
      "source": [
        "deg3 = 3\n",
        "X3 = getPoweredX(deg3, X_train)\n",
        "\n",
        "first_part = np.linalg.pinv(np.dot(X3.transpose(), X3))\n",
        "second_part = np.dot(first_part, X3.transpose())\n",
        "W3 = np.dot(second_part, Y)\n",
        "\n",
        "print(\"Empirical risk for degree 3 model: \", calculateEmpricalRisk(np.dot(X3, W3)))\n",
        "plt.title(\"Prediction\", size = \"16\")\n",
        "plt.xlabel(\"Degree=3\", size = \"14\")\n",
        "plt.scatter(X,Y, color = \"red\")\n",
        "plt.scatter(X,Y, color = \"red\")\n",
        "plt.scatter(X3[:,1], np.dot(X3, W3), color = \"blue\")\n",
        "plt.show()"
      ],
      "execution_count": 10,
      "outputs": [
        {
          "output_type": "stream",
          "name": "stdout",
          "text": [
            "Empirical risk for degree 3 model:  [4.909399e-06]\n"
          ]
        },
        {
          "output_type": "display_data",
          "data": {
            "image/png": "[encoded data removed]",
            "text/plain": [
              "<Figure size 432x288 with 1 Axes>"
            ]
          },
          "metadata": {
            "needs_background": "light"
          }
        }
      ]
    },
    {
      "cell_type": "markdown",
      "metadata": {
        "id": "zlktlhlkuO73"
      },
      "source": [
        "Applying Polynomial Regression for degree 4 and printing its corresponding error and plot"
      ]
    },
    {
      "cell_type": "code",
      "metadata": {
        "colab": {
          "base_uri": "https://localhost:8080/",
          "height": 319
        },
        "id": "_rCWSRyLuLw4",
        "outputId": "4b514433-87f6-456b-fb15-a5e689018229"
      },
      "source": [
        "deg4 = 4\n",
        "X4 = getPoweredX(deg4, X_train)\n",
        "\n",
        "first_part = np.linalg.pinv(np.dot(X4.transpose(), X4))\n",
        "second_part = np.dot(first_part, X4.transpose())\n",
        "W4 = np.dot(second_part, Y)\n",
        "\n",
        "print(\"Empirical risk for degree 4 model: \", calculateEmpricalRisk(np.dot(X4, W4)))\n",
        "plt.title(\"Prediction\", size = \"16\")\n",
        "plt.xlabel(\"Degree=4\", size = \"14\")\n",
        "plt.scatter(X,Y, color = \"red\")\n",
        "plt.scatter(X,Y, color = \"red\")\n",
        "plt.scatter(X4[:,1],np.dot(X4,W4), color = \"blue\")\n",
        "plt.show()"
      ],
      "execution_count": 11,
      "outputs": [
        {
          "output_type": "stream",
          "name": "stdout",
          "text": [
            "Empirical risk for degree 4 model:  [8.75599542e-09]\n"
          ]
        },
        {
          "output_type": "display_data",
          "data": {
            "image/png": "[encoded data removed]",
            "text/plain": [
              "<Figure size 432x288 with 1 Axes>"
            ]
          },
          "metadata": {
            "needs_background": "light"
          }
        }
      ]
    },
    {
      "cell_type": "code",
      "metadata": {
        "id": "jdjLud8ouRxH"
      },
      "source": [
        ""
      ],
      "execution_count": null,
      "outputs": []
    }
  ]
}